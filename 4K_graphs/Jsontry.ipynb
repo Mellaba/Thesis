{
 "cells": [
  {
   "cell_type": "code",
   "execution_count": 1,
   "metadata": {},
   "outputs": [],
   "source": [
    "import json\n",
    "import networkx as nx\n",
    "import matplotlib.pyplot as plt\n",
    "import random \n",
    "%matplotlib inline \n",
    "import copy"
   ]
  },
  {
   "cell_type": "code",
   "execution_count": 2,
   "metadata": {},
   "outputs": [],
   "source": [
    "def testfunc(i):\n",
    "    colorlist = {\"1\": 0, \"2\": 1, \"3\": 2}\n",
    "    runtime = 3*i\n",
    "    steps = 5*i\n",
    "    return colorlist, steps, runtime"
   ]
  },
  {
   "cell_type": "code",
   "execution_count": 15,
   "metadata": {},
   "outputs": [],
   "source": [
    "def nothing(i):\n",
    "    teststring = \"10.01010101010101_D_198_N5_P\"\n",
    "    parts = teststring.split('_')\n",
    "    degree = parts[0]\n",
    "    nodes = parts[2] \n",
    "    p = parts[3][1]\n",
    "    \n",
    "    return degree, nodes, p"
   ]
  },
  {
   "cell_type": "code",
   "execution_count": 17,
   "metadata": {},
   "outputs": [],
   "source": [
    "for i in range(10):\n",
    "    colorlist, steps, runtime = testfunc(i)\n",
    "    d, nodes, p = nothing(i)\n",
    "    data = {\n",
    "        \"degree\": d,\n",
    "        \"nodes\": nodes,\n",
    "        \"p\": p,\n",
    "        \"colorlist\": colorlist,\n",
    "        \"steps\": steps,\n",
    "        \"runtime\":runtime\n",
    "    }\n",
    "    \n",
    "    with open('data.json', 'a') as outfile:\n",
    "        json.dump(data, outfile, indent=2)"
   ]
  },
  {
   "cell_type": "code",
   "execution_count": null,
   "metadata": {},
   "outputs": [],
   "source": []
  }
 ],
 "metadata": {
  "kernelspec": {
   "display_name": "Python 3",
   "language": "python",
   "name": "python3"
  },
  "language_info": {
   "codemirror_mode": {
    "name": "ipython",
    "version": 3
   },
   "file_extension": ".py",
   "mimetype": "text/x-python",
   "name": "python",
   "nbconvert_exporter": "python",
   "pygments_lexer": "ipython3",
   "version": "3.6.4"
  }
 },
 "nbformat": 4,
 "nbformat_minor": 2
}
